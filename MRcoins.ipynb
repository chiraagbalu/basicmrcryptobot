{
 "cells": [
  {
   "cell_type": "code",
   "execution_count": 1,
   "id": "25784133",
   "metadata": {},
   "outputs": [],
   "source": [
    "top5Coins = ['BTCUSDT', 'ETHUSDT', 'BNBUSDT', 'ADAUSDT', 'DOGEUSDT']"
   ]
  },
  {
   "cell_type": "code",
   "execution_count": 2,
   "id": "ceea617c",
   "metadata": {},
   "outputs": [],
   "source": [
    "import pandas as pd"
   ]
  },
  {
   "cell_type": "code",
   "execution_count": 3,
   "id": "cd798e78",
   "metadata": {},
   "outputs": [],
   "source": [
    "posframe = pd.DataFrame(top5Coins)"
   ]
  },
  {
   "cell_type": "code",
   "execution_count": 4,
   "id": "8f2fa990",
   "metadata": {},
   "outputs": [],
   "source": [
    "posframe['position'] = 0"
   ]
  },
  {
   "cell_type": "code",
   "execution_count": 5,
   "id": "3d2827e2",
   "metadata": {},
   "outputs": [],
   "source": [
    "posframe['quantity'] = 0"
   ]
  },
  {
   "cell_type": "code",
   "execution_count": 6,
   "id": "e2c29406",
   "metadata": {},
   "outputs": [],
   "source": [
    "posframe.columns = ['currency', 'position', 'quantity']"
   ]
  },
  {
   "cell_type": "code",
   "execution_count": 7,
   "id": "a010f0a6",
   "metadata": {},
   "outputs": [],
   "source": [
    "posframe.to_csv('positioncheck', index = False)"
   ]
  },
  {
   "cell_type": "code",
   "execution_count": 8,
   "id": "945b72fc",
   "metadata": {},
   "outputs": [
    {
     "data": {
      "text/html": [
       "<div>\n",
       "<style scoped>\n",
       "    .dataframe tbody tr th:only-of-type {\n",
       "        vertical-align: middle;\n",
       "    }\n",
       "\n",
       "    .dataframe tbody tr th {\n",
       "        vertical-align: top;\n",
       "    }\n",
       "\n",
       "    .dataframe thead th {\n",
       "        text-align: right;\n",
       "    }\n",
       "</style>\n",
       "<table border=\"1\" class=\"dataframe\">\n",
       "  <thead>\n",
       "    <tr style=\"text-align: right;\">\n",
       "      <th></th>\n",
       "      <th>currency</th>\n",
       "      <th>position</th>\n",
       "      <th>quantity</th>\n",
       "    </tr>\n",
       "  </thead>\n",
       "  <tbody>\n",
       "    <tr>\n",
       "      <th>0</th>\n",
       "      <td>BTCUSDT</td>\n",
       "      <td>0</td>\n",
       "      <td>0</td>\n",
       "    </tr>\n",
       "    <tr>\n",
       "      <th>1</th>\n",
       "      <td>ETHUSDT</td>\n",
       "      <td>0</td>\n",
       "      <td>0</td>\n",
       "    </tr>\n",
       "    <tr>\n",
       "      <th>2</th>\n",
       "      <td>BNBUSDT</td>\n",
       "      <td>0</td>\n",
       "      <td>0</td>\n",
       "    </tr>\n",
       "    <tr>\n",
       "      <th>3</th>\n",
       "      <td>ADAUSDT</td>\n",
       "      <td>0</td>\n",
       "      <td>0</td>\n",
       "    </tr>\n",
       "    <tr>\n",
       "      <th>4</th>\n",
       "      <td>DOGEUSDT</td>\n",
       "      <td>0</td>\n",
       "      <td>0</td>\n",
       "    </tr>\n",
       "  </tbody>\n",
       "</table>\n",
       "</div>"
      ],
      "text/plain": [
       "   currency  position  quantity\n",
       "0   BTCUSDT         0         0\n",
       "1   ETHUSDT         0         0\n",
       "2   BNBUSDT         0         0\n",
       "3   ADAUSDT         0         0\n",
       "4  DOGEUSDT         0         0"
      ]
     },
     "execution_count": 8,
     "metadata": {},
     "output_type": "execute_result"
    }
   ],
   "source": [
    "pd.read_csv('positioncheck')"
   ]
  },
  {
   "cell_type": "code",
   "execution_count": null,
   "id": "46e720ac",
   "metadata": {},
   "outputs": [],
   "source": []
  }
 ],
 "metadata": {
  "kernelspec": {
   "display_name": "Python 3 (ipykernel)",
   "language": "python",
   "name": "python3"
  },
  "language_info": {
   "codemirror_mode": {
    "name": "ipython",
    "version": 3
   },
   "file_extension": ".py",
   "mimetype": "text/x-python",
   "name": "python",
   "nbconvert_exporter": "python",
   "pygments_lexer": "ipython3",
   "version": "3.8.3"
  }
 },
 "nbformat": 4,
 "nbformat_minor": 5
}
